{
 "cells": [
  {
   "cell_type": "markdown",
   "id": "cb44c405-5dae-4607-accd-5c40ffcdfcff",
   "metadata": {},
   "source": [
    "# Section 1"
   ]
  },
  {
   "cell_type": "markdown",
   "id": "678366ff-4ac1-4dbd-aac0-19763653595e",
   "metadata": {},
   "source": [
    "## Archive exploration\n",
    "\n",
    "Discussed these questions w my group:\n",
    "\n",
    "1. What is this data about?\n",
    "- arthropod prey data & associated climate & environmental data for a list of species in CA drylands\n",
    "2. Is this data collected in-situ by the authors or is it a synthesis of multiple datasets?\n",
    "- synthesis of multiple datasets, including citations of different papers used for climate/env data published in a range of years (2000s-2010s)\n",
    "3. During what time frame were the observations in the dataset collected?\n",
    "- 1945-2022\n",
    "4. Does this dataset come with an associated metadata file?\n",
    "- yes\n",
    "5. Does the dataset contain sensitive data?\n",
    "- no"
   ]
  },
  {
   "cell_type": "markdown",
   "id": "f03e22ec-6b9c-4c8b-808b-4a311e21300a",
   "metadata": {},
   "source": [
    "brief description of the dataset, including a citation, date of access, and a link to the archive.\n",
    "\n",
    "\n",
    "- the dataset contains occurence records for \"all arthropod prey of listed species in California drylands as identified in Lortie et al. (2023): https://besjournals.onlinelibrary.wiley.com/doi/full/10.1002/2688-8319.12251.\" and \"associated climate and environmental data\".  - https://knb.ecoinformatics.org/view/doi%3A10.5063%2FF1VM49RH\n",
    "\n",
    "Rachel King, Jenna Braun, Michael Westphal, & CJ Lortie. (2023). Compiled occurrence records for prey items of listed species found in California drylands with associated environmental data. Knowledge Network for Biocomplexity. doi:10.5063/F1VM49RH.\n",
    "\n",
    "Accessed October 5, 2023\n",
    "\n",
    "https://knb.ecoinformatics.org/view/doi%3A10.5063%2FF1VM49RH"
   ]
  }
 ],
 "metadata": {
  "kernelspec": {
   "display_name": "Anaconda 3 (Base)",
   "language": "python",
   "name": "base"
  },
  "language_info": {
   "codemirror_mode": {
    "name": "ipython",
    "version": 3
   },
   "file_extension": ".py",
   "mimetype": "text/x-python",
   "name": "python",
   "nbconvert_exporter": "python",
   "pygments_lexer": "ipython3",
   "version": "3.9.13"
  }
 },
 "nbformat": 4,
 "nbformat_minor": 5
}
